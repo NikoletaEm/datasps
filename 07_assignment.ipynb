{
  "nbformat": 4,
  "nbformat_minor": 0,
  "metadata": {
    "colab": {
      "name": "07_assignment.ipynb",
      "provenance": [],
      "include_colab_link": true
    },
    "kernelspec": {
      "name": "python3",
      "display_name": "Python 3"
    }
  },
  "cells": [
    {
      "cell_type": "markdown",
      "metadata": {
        "id": "view-in-github",
        "colab_type": "text"
      },
      "source": [
        "<a href=\"https://colab.research.google.com/github/NikoletaEm/datasps/blob/main/07_assignment.ipynb\" target=\"_parent\"><img src=\"https://colab.research.google.com/assets/colab-badge.svg\" alt=\"Open In Colab\"/></a>"
      ]
    },
    {
      "cell_type": "markdown",
      "metadata": {
        "id": "rd2QZetSDszc"
      },
      "source": [
        "# **Assignment 7**\n",
        "\n",
        "# **Weeks 8 & 9 - Pandas**\n",
        "* In this homework assignment, you will explore and analyze a public dataset of your choosing. Since this assignment is “open-ended” in nature, you are free to expand upon the requirements below. However, you must meet the minimum requirments as indicated in each section.\n",
        "\n",
        "* You must use Pandas as the **primary tool** to process your data.\n",
        "\n",
        "* The preferred method for this analysis is in a .ipynb file. Feel free to use whichever platform of your choosing.  \n",
        " * https://www.youtube.com/watch?v=inN8seMm7UI (Getting started with Colab).\n",
        "\n",
        "* Your data should need some \"work\", or be considered \"dirty\".  You must show your skills in data cleaning/wrangling.\n",
        "\n",
        "### **Some data examples:**\n",
        "•\thttps://www.data.gov/\n",
        "\n",
        "•\thttps://opendata.cityofnewyork.us/\n",
        "\n",
        "•\thttps://datasetsearch.research.google.com/\n",
        "\n",
        "•\thttps://archive.ics.uci.edu/ml/index.php\n",
        "\n",
        "### **Resources:**\n",
        "\n",
        "•\thttps://pandas.pydata.org/pandas-docs/stable/getting_started/10min.html\n",
        "\n",
        "•\thttps://pandas.pydata.org/pandas-docs/stable/user_guide/visualization.html\n",
        "\n",
        "\n",
        "### **Headings or comments**\n",
        "**You are required to make use of comments, or headings for each section.  You must explain what your code is doing, and the results of running your code.**  Act as if you were giving this assignment to your manager - you must include clear and descriptive information for each section.\n",
        "\n",
        "### **You may work as a group or indivdually on this assignment.**\n"
      ]
    },
    {
      "cell_type": "markdown",
      "metadata": {
        "id": "uW3w6p8rqgxu"
      },
      "source": [
        "# Introduction\n",
        "\n",
        "In this section, please describe the dataset you are using.  Include a link to the source of this data.  You should also provide some explanation on why you choose this dataset."
      ]
    },
    {
      "cell_type": "markdown",
      "metadata": {
        "id": "L0PnfMOFzOXz"
      },
      "source": [
        "https://www.kaggle.com/datasets/bharatnatrayn/movies-dataset-for-feature-extracion-prediction?resource=download"
      ]
    },
    {
      "cell_type": "markdown",
      "metadata": {
        "id": "3bp8cdDxDs2t"
      },
      "source": [
        "______________\n",
        "# Data Exploration\n",
        "Import your dataset into your .ipynb, create dataframes, and explore your data.  \n",
        "\n",
        "Include:\n",
        "\n",
        "* Summary statistics means, medians, quartiles,\n",
        "* Missing value information\n",
        "* Any other relevant information about the dataset.  \n",
        "\n"
      ]
    },
    {
      "cell_type": "markdown",
      "source": [
        "# ================================\n",
        "## **1. Create DataFrames and Load Data**\n",
        "# ================================\n",
        "We'll import pandas for data manipulation and load the dataset directly from the GitHub URL"
      ],
      "metadata": {
        "id": "I24_y6D6NcdS"
      }
    },
    {
      "cell_type": "code",
      "metadata": {
        "id": "1OJmbafkEhhq",
        "colab": {
          "base_uri": "https://localhost:8080/"
        },
        "outputId": "350d9961-9221-4c85-d2b8-06ea28a79230"
      },
      "source": [
        "import pandas as pd\n",
        "\n",
        "# Load the dataset\n",
        "url = \"https://raw.githubusercontent.com/NikoletaEm/datasps/refs/heads/main/movies.csv\"\n",
        "data = pd.read_csv(url)\n",
        "\n",
        "# Display dataset information\n",
        "print(\"Dataset Information:\\n\")\n",
        "print(data.info())\n",
        "\n",
        "# Display the first 5 rows to understand its structure\n",
        "print(\"\\nFirst 5 Rows of the Dataset:\\n\")\n",
        "print(data.head())"
      ],
      "execution_count": 2,
      "outputs": [
        {
          "output_type": "stream",
          "name": "stdout",
          "text": [
            "Dataset Information:\n",
            "\n",
            "<class 'pandas.core.frame.DataFrame'>\n",
            "RangeIndex: 9999 entries, 0 to 9998\n",
            "Data columns (total 9 columns):\n",
            " #   Column    Non-Null Count  Dtype  \n",
            "---  ------    --------------  -----  \n",
            " 0   MOVIES    9999 non-null   object \n",
            " 1   YEAR      9355 non-null   object \n",
            " 2   GENRE     9919 non-null   object \n",
            " 3   RATING    8179 non-null   float64\n",
            " 4   ONE-LINE  9999 non-null   object \n",
            " 5   STARS     9999 non-null   object \n",
            " 6   VOTES     8179 non-null   object \n",
            " 7   RunTime   7041 non-null   float64\n",
            " 8   Gross     460 non-null    object \n",
            "dtypes: float64(2), object(7)\n",
            "memory usage: 703.2+ KB\n",
            "None\n",
            "\n",
            "First 5 Rows of the Dataset:\n",
            "\n",
            "                                MOVIES         YEAR  \\\n",
            "0                        Blood Red Sky       (2021)   \n",
            "1  Masters of the Universe: Revelation     (2021– )   \n",
            "2                     The Walking Dead  (2010–2022)   \n",
            "3                       Rick and Morty     (2013– )   \n",
            "4                      Army of Thieves       (2021)   \n",
            "\n",
            "                                        GENRE  RATING  \\\n",
            "0      \\nAction, Horror, Thriller                 6.1   \n",
            "1  \\nAnimation, Action, Adventure                 5.0   \n",
            "2       \\nDrama, Horror, Thriller                 8.2   \n",
            "3  \\nAnimation, Adventure, Comedy                 9.2   \n",
            "4         \\nAction, Crime, Horror                 NaN   \n",
            "\n",
            "                                            ONE-LINE  \\\n",
            "0  \\nA woman with a mysterious illness is forced ...   \n",
            "1  \\nThe war for Eternia begins again in what may...   \n",
            "2  \\nSheriff Deputy Rick Grimes wakes up from a c...   \n",
            "3  \\nAn animated series that follows the exploits...   \n",
            "4  \\nA prequel, set before the events of Army of ...   \n",
            "\n",
            "                                               STARS    VOTES  RunTime Gross  \n",
            "0  \\n    Director:\\nPeter Thorwarth\\n| \\n    Star...   21,062    121.0   NaN  \n",
            "1  \\n            \\n    Stars:\\nChris Wood, \\nSara...   17,870     25.0   NaN  \n",
            "2  \\n            \\n    Stars:\\nAndrew Lincoln, \\n...  885,805     44.0   NaN  \n",
            "3  \\n            \\n    Stars:\\nJustin Roiland, \\n...  414,849     23.0   NaN  \n",
            "4  \\n    Director:\\nMatthias Schweighöfer\\n| \\n  ...      NaN      NaN   NaN  \n"
          ]
        }
      ]
    },
    {
      "cell_type": "markdown",
      "source": [
        "The dataset contains 9999 rows and 9 columns.\n",
        "Some columns, such as RATING, VOTES, and RunTime, have significant missing values.\n",
        "The Gross column is almost entirely missing, which may require removal or special handling.\n",
        "Columns like YEAR, GENRE, and STARS are text-heavy, suggesting potential for text cleaning or feature engineering."
      ],
      "metadata": {
        "id": "hgtvkHoGN-BR"
      }
    },
    {
      "cell_type": "markdown",
      "source": [
        "# ================================\n",
        "## **2. Summary Statistics**\n",
        "# ================================\n",
        "Now we'll examine key statistics such as mean, median, quartiles, and ranges to understand the dataset's distribution."
      ],
      "metadata": {
        "id": "YNnfbPk3Ny0J"
      }
    },
    {
      "cell_type": "code",
      "source": [
        "# Summary statistics for numerical columns\n",
        "print(data.describe())\n"
      ],
      "metadata": {
        "id": "rPm8O4qIMLVL",
        "outputId": "d2947d6a-dbe7-4ecb-96ed-1a94000fee56",
        "colab": {
          "base_uri": "https://localhost:8080/"
        }
      },
      "execution_count": 4,
      "outputs": [
        {
          "output_type": "stream",
          "name": "stdout",
          "text": [
            "            RATING      RunTime\n",
            "count  8179.000000  7041.000000\n",
            "mean      6.921176    68.688539\n",
            "std       1.220232    47.258056\n",
            "min       1.100000     1.000000\n",
            "25%       6.200000    36.000000\n",
            "50%       7.100000    60.000000\n",
            "75%       7.800000    95.000000\n",
            "max       9.900000   853.000000\n"
          ]
        }
      ]
    },
    {
      "cell_type": "markdown",
      "source": [
        "- The \"RATING\" column shows a mean value of 6.92, with a standard deviation of 1.22.This indicates that the ratings are generally clustered around the mean, with a typical variation of about 1.22 points.\n",
        "- The \"RunTime\" column has a much larger standard deviation (47.26), meaning that the movie runtimes vary significantly from the mean value of 68.69 minutes. The presence of a maximum value of 853 minutes suggests that there might be an outlier or erroneous data point in this column.\n",
        "- The 25th, 50th (median), and 75th percentiles give insight into the distribution of the data and show that the majority of movies have runtimes between 36 and 95 minutes."
      ],
      "metadata": {
        "id": "iDMYW_g4PZsC"
      }
    },
    {
      "cell_type": "markdown",
      "source": [
        "# ================================\n",
        "## **3. Missing Values Information**\n",
        "# ================================"
      ],
      "metadata": {
        "id": "6mUE3B2lRWna"
      }
    },
    {
      "cell_type": "code",
      "metadata": {
        "id": "b0WTKtqozNn1",
        "outputId": "a6bde4f6-e628-40d9-f45c-fb0382b9de41",
        "colab": {
          "base_uri": "https://localhost:8080/"
        }
      },
      "source": [
        "# Missing values\n",
        "print(data.isnull().sum())"
      ],
      "execution_count": 3,
      "outputs": [
        {
          "output_type": "stream",
          "name": "stdout",
          "text": [
            "MOVIES         0\n",
            "YEAR         644\n",
            "GENRE         80\n",
            "RATING      1820\n",
            "ONE-LINE       0\n",
            "STARS          0\n",
            "VOTES       1820\n",
            "RunTime     2958\n",
            "Gross       9539\n",
            "dtype: int64\n"
          ]
        }
      ]
    },
    {
      "cell_type": "markdown",
      "source": [
        "- The \"YEAR\" column has 644 missing entries, which could potentially be critical since it represents the release year of the movie. We may need to explore imputation strategies based on other columns(e.g., genre, box office gross) or consider removing rows with missing years if necessary.\n",
        "- Both the \"RATING\" and \"VOTES\" columns have 1820 missing values, which indicates a significant amount of missing data for the movie ratings and votes. Since these are important for understanding the movie's reception, we may need to address this by either filling in the missing values or removing rows.\n",
        "- The \"RunTime\" column has 2958 missing values, which is also a substantial portion of the data.Depending on the analysis, we might consider removing these rows or filling them with a reasonable default value (e.g., the median runtime).\n",
        "- The \"Gross\" column has the most missing data, with 9539 missing entries, which is nearly the entire column.This may require a more detailed review of whether it's possible to impute these values or if this column an be excluded from certain analyses."
      ],
      "metadata": {
        "id": "YF48bIf9P72_"
      }
    },
    {
      "cell_type": "markdown",
      "source": [
        "\n",
        "# ================================\n",
        "## **4.Identifying Outliers**\n",
        "# ================================\n",
        "\n",
        "Detecting outliers can be important to ensure the quality of your data. Outliers can skew statistical analyses. We can use methods like the Interquartile Range (IQR) to detect and potentially remove outliers.\n",
        "\n"
      ],
      "metadata": {
        "id": "qhvfoOIlQ9w1"
      }
    },
    {
      "cell_type": "code",
      "source": [
        "Q1 = data['RunTime'].quantile(0.25)\n",
        "Q3 = data['RunTime'].quantile(0.75)\n",
        "IQR = Q3 - Q1\n",
        "\n",
        "# Calculate lower and upper bounds for outliers\n",
        "lower_bound = Q1 - 1.5 * IQR\n",
        "upper_bound = Q3 + 1.5 * IQR\n"
      ],
      "metadata": {
        "id": "HushrLUjQ-ER"
      },
      "execution_count": null,
      "outputs": []
    },
    {
      "cell_type": "markdown",
      "metadata": {
        "id": "kCSLIafaEGVK"
      },
      "source": [
        "# Data Wrangling\n",
        "Create a subset of your original data and perform the following.  \n",
        "\n",
        "1. Modify multiple column names.\n",
        "\n",
        "2. Look at the structure of your data – are any variables improperly coded? Such as strings or characters? Convert to correct structure if needed.\n",
        "\n",
        "3. Fix missing and invalid values in data.\n",
        "\n",
        "4. Create new columns based on existing columns or calculations.\n",
        "\n",
        "5. Drop column(s) from your dataset.\n",
        "\n",
        "6. Drop a row(s) from your dataset.\n",
        "\n",
        "7. Sort your data based on multiple variables.\n",
        "\n",
        "8. Filter your data based on some condition.\n",
        "\n",
        "9. Convert all the string values to upper or lower cases in one column.\n",
        "\n",
        "10. Check whether numeric values are present in a given column of your dataframe.\n",
        "\n",
        "11. Group your dataset by one column, and get the mean, min, and max values by group.\n",
        "  * Groupby()\n",
        "  * agg() or .apply()\n",
        "\n",
        "12. Group your dataset by two columns and then sort the aggregated results within the groups.\n",
        "\n",
        "**You are free (and should) to add on to these questions.  Please clearly indicate in your assignment your answers to these questions.**"
      ]
    },
    {
      "cell_type": "markdown",
      "source": [
        "\n",
        "# ================================\n",
        "##**Create a Subset of the Original Data**\n",
        "# ================================\n",
        "\n",
        "We will create a subset of the original data by selecting specific columns.This helps in focusing on certain columns of interest for analysis or modification.\n"
      ],
      "metadata": {
        "id": "Yoe1aS-USE-D"
      }
    },
    {
      "cell_type": "code",
      "metadata": {
        "id": "4VWWvvynEiQT",
        "outputId": "a3f772a9-6fe4-4846-d1c2-f45fad69e5cf",
        "colab": {
          "base_uri": "https://localhost:8080/"
        }
      },
      "source": [
        "subset_data = data[['MOVIES', 'YEAR', 'RATING', 'RunTime', 'GENRE']]\n",
        "\n",
        "print(\"Subset of the data (first 5 rows):\")\n",
        "print(subset_data.head())"
      ],
      "execution_count": 13,
      "outputs": [
        {
          "output_type": "stream",
          "name": "stdout",
          "text": [
            "Subset of the data (first 5 rows):\n",
            "                                MOVIES         YEAR  RATING  RunTime  \\\n",
            "0                        Blood Red Sky       (2021)     6.1    121.0   \n",
            "1  Masters of the Universe: Revelation     (2021– )     5.0     25.0   \n",
            "2                     The Walking Dead  (2010–2022)     8.2     44.0   \n",
            "3                       Rick and Morty     (2013– )     9.2     23.0   \n",
            "4                      Army of Thieves       (2021)     NaN      NaN   \n",
            "\n",
            "                                        GENRE  \n",
            "0      \\nAction, Horror, Thriller              \n",
            "1  \\nAnimation, Action, Adventure              \n",
            "2       \\nDrama, Horror, Thriller              \n",
            "3  \\nAnimation, Adventure, Comedy              \n",
            "4         \\nAction, Crime, Horror              \n"
          ]
        }
      ]
    },
    {
      "cell_type": "markdown",
      "source": [
        "# ================================\n",
        "## **1. Modify Multiple Column Names**\n",
        "# ================================\n",
        "\n",
        "Let's modify the column names to be more consistent and easier to work with.\n",
        "For example, we can convert them to lower case. Additionally, we'll rename 'RunTime' to 'run_time'.\n"
      ],
      "metadata": {
        "id": "FwufaeYIST1N"
      }
    },
    {
      "cell_type": "code",
      "source": [
        "subset_data.columns = subset_data.columns.str.lower()\n",
        "subset_data.rename(columns={'runtime': 'run_time'}, inplace=True)\n",
        "\n",
        "print(\"\\nColumn names after modification:\")\n",
        "print(subset_data.columns)"
      ],
      "metadata": {
        "id": "nATPKSaNXD9B",
        "outputId": "3903056e-1a32-477b-d2d8-bc7dda6496aa",
        "colab": {
          "base_uri": "https://localhost:8080/"
        }
      },
      "execution_count": 14,
      "outputs": [
        {
          "output_type": "stream",
          "name": "stdout",
          "text": [
            "\n",
            "Column names after modification:\n",
            "Index(['movies', 'year', 'rating', 'run_time', 'genre'], dtype='object')\n"
          ]
        },
        {
          "output_type": "stream",
          "name": "stderr",
          "text": [
            "<ipython-input-14-2e3a99bbcfb3>:2: SettingWithCopyWarning: \n",
            "A value is trying to be set on a copy of a slice from a DataFrame\n",
            "\n",
            "See the caveats in the documentation: https://pandas.pydata.org/pandas-docs/stable/user_guide/indexing.html#returning-a-view-versus-a-copy\n",
            "  subset_data.rename(columns={'runtime': 'run_time'}, inplace=True)\n"
          ]
        }
      ]
    },
    {
      "cell_type": "markdown",
      "source": [
        "# ================================\n",
        "## **2. Look at the Structure of the Data**\n",
        "# ================================\n",
        "\n",
        "We need to check if any variables are improperly coded (e.g., strings or characters that should be numerical)\n"
      ],
      "metadata": {
        "id": "PN1SOMALTNhd"
      }
    },
    {
      "cell_type": "code",
      "source": [
        "print(\"\\nData types before conversion:\")\n",
        "print(subset_data.dtypes)"
      ],
      "metadata": {
        "id": "dbP65FAJTT68",
        "outputId": "be592d33-c73d-4b8f-c673-90266f298c47",
        "colab": {
          "base_uri": "https://localhost:8080/"
        }
      },
      "execution_count": 15,
      "outputs": [
        {
          "output_type": "stream",
          "name": "stdout",
          "text": [
            "\n",
            "Data types before conversion:\n",
            "movies       object\n",
            "year         object\n",
            "rating      float64\n",
            "run_time    float64\n",
            "genre        object\n",
            "dtype: object\n"
          ]
        }
      ]
    },
    {
      "cell_type": "markdown",
      "source": [
        "- movies: It's an object, which is fine as it's a string column.\n",
        "- year: It's an object, which is fine since it's representing years in the form of text (e.g., \"2021\" or \"2010–2022\").\n",
        "- rating: This is already a float (float64), so no changes are needed here.\n",
        "- run_time: This is a float (float64), which is correct as it's numerical data representing runtime in minutes.\n",
        "- genre: It's an object (string), which is fine as it represents categorical data for genres."
      ],
      "metadata": {
        "id": "jacCrZioTqy3"
      }
    },
    {
      "cell_type": "code",
      "source": [
        "# Fill missing ratings with the median rating\n",
        "median_rating = subset_data['rating'].dropna().median()\n",
        "subset_data['rating'].fillna(median_rating, inplace=True)\n",
        "\n",
        "# Extract the first 4-digit year from various formats\n",
        "subset_data['year'] = subset_data['year'].str.extract(r'(\\d{4})').astype(float)\n",
        "\n",
        "# Fill missing 'YEAR' values with the median year\n",
        "median_year = subset_data['year'].median()\n",
        "subset_data['year'].fillna(median_year, inplace=True)\n",
        "\n",
        "# Fill missing 'run_time' values with the median year\n",
        "median_runtime = subset_data['run_time'].dropna().median()\n",
        "subset_data['run_time'].fillna(median_runtime, inplace=True)\n",
        "\n",
        "subset_data['genre'].fillna('Unknown', inplace=True)"
      ],
      "metadata": {
        "id": "ilLqpV03UZdE",
        "outputId": "567fa6b1-0cae-4e12-95b1-00b631774906",
        "colab": {
          "base_uri": "https://localhost:8080/"
        }
      },
      "execution_count": 16,
      "outputs": [
        {
          "output_type": "stream",
          "name": "stderr",
          "text": [
            "<ipython-input-16-386b7eddd4ae>:3: FutureWarning: A value is trying to be set on a copy of a DataFrame or Series through chained assignment using an inplace method.\n",
            "The behavior will change in pandas 3.0. This inplace method will never work because the intermediate object on which we are setting values always behaves as a copy.\n",
            "\n",
            "For example, when doing 'df[col].method(value, inplace=True)', try using 'df.method({col: value}, inplace=True)' or df[col] = df[col].method(value) instead, to perform the operation inplace on the original object.\n",
            "\n",
            "\n",
            "  subset_data['rating'].fillna(median_rating, inplace=True)\n",
            "<ipython-input-16-386b7eddd4ae>:3: SettingWithCopyWarning: \n",
            "A value is trying to be set on a copy of a slice from a DataFrame\n",
            "\n",
            "See the caveats in the documentation: https://pandas.pydata.org/pandas-docs/stable/user_guide/indexing.html#returning-a-view-versus-a-copy\n",
            "  subset_data['rating'].fillna(median_rating, inplace=True)\n",
            "<ipython-input-16-386b7eddd4ae>:6: SettingWithCopyWarning: \n",
            "A value is trying to be set on a copy of a slice from a DataFrame.\n",
            "Try using .loc[row_indexer,col_indexer] = value instead\n",
            "\n",
            "See the caveats in the documentation: https://pandas.pydata.org/pandas-docs/stable/user_guide/indexing.html#returning-a-view-versus-a-copy\n",
            "  subset_data['year'] = subset_data['year'].str.extract(r'(\\d{4})').astype(float)\n",
            "<ipython-input-16-386b7eddd4ae>:10: FutureWarning: A value is trying to be set on a copy of a DataFrame or Series through chained assignment using an inplace method.\n",
            "The behavior will change in pandas 3.0. This inplace method will never work because the intermediate object on which we are setting values always behaves as a copy.\n",
            "\n",
            "For example, when doing 'df[col].method(value, inplace=True)', try using 'df.method({col: value}, inplace=True)' or df[col] = df[col].method(value) instead, to perform the operation inplace on the original object.\n",
            "\n",
            "\n",
            "  subset_data['year'].fillna(median_year, inplace=True)\n",
            "<ipython-input-16-386b7eddd4ae>:10: SettingWithCopyWarning: \n",
            "A value is trying to be set on a copy of a slice from a DataFrame\n",
            "\n",
            "See the caveats in the documentation: https://pandas.pydata.org/pandas-docs/stable/user_guide/indexing.html#returning-a-view-versus-a-copy\n",
            "  subset_data['year'].fillna(median_year, inplace=True)\n",
            "<ipython-input-16-386b7eddd4ae>:14: FutureWarning: A value is trying to be set on a copy of a DataFrame or Series through chained assignment using an inplace method.\n",
            "The behavior will change in pandas 3.0. This inplace method will never work because the intermediate object on which we are setting values always behaves as a copy.\n",
            "\n",
            "For example, when doing 'df[col].method(value, inplace=True)', try using 'df.method({col: value}, inplace=True)' or df[col] = df[col].method(value) instead, to perform the operation inplace on the original object.\n",
            "\n",
            "\n",
            "  subset_data['run_time'].fillna(median_runtime, inplace=True)\n",
            "<ipython-input-16-386b7eddd4ae>:14: SettingWithCopyWarning: \n",
            "A value is trying to be set on a copy of a slice from a DataFrame\n",
            "\n",
            "See the caveats in the documentation: https://pandas.pydata.org/pandas-docs/stable/user_guide/indexing.html#returning-a-view-versus-a-copy\n",
            "  subset_data['run_time'].fillna(median_runtime, inplace=True)\n",
            "<ipython-input-16-386b7eddd4ae>:16: FutureWarning: A value is trying to be set on a copy of a DataFrame or Series through chained assignment using an inplace method.\n",
            "The behavior will change in pandas 3.0. This inplace method will never work because the intermediate object on which we are setting values always behaves as a copy.\n",
            "\n",
            "For example, when doing 'df[col].method(value, inplace=True)', try using 'df.method({col: value}, inplace=True)' or df[col] = df[col].method(value) instead, to perform the operation inplace on the original object.\n",
            "\n",
            "\n",
            "  subset_data['genre'].fillna('Unknown', inplace=True)\n",
            "<ipython-input-16-386b7eddd4ae>:16: SettingWithCopyWarning: \n",
            "A value is trying to be set on a copy of a slice from a DataFrame\n",
            "\n",
            "See the caveats in the documentation: https://pandas.pydata.org/pandas-docs/stable/user_guide/indexing.html#returning-a-view-versus-a-copy\n",
            "  subset_data['genre'].fillna('Unknown', inplace=True)\n"
          ]
        }
      ]
    },
    {
      "cell_type": "code",
      "source": [
        "print(subset_data.isnull().sum())"
      ],
      "metadata": {
        "id": "XlU54Px-Ttt1",
        "outputId": "500d5999-34e4-4dc2-d54b-c48ef9753a08",
        "colab": {
          "base_uri": "https://localhost:8080/"
        }
      },
      "execution_count": 17,
      "outputs": [
        {
          "output_type": "stream",
          "name": "stdout",
          "text": [
            "movies      0\n",
            "year        0\n",
            "rating      0\n",
            "run_time    0\n",
            "genre       0\n",
            "dtype: int64\n"
          ]
        }
      ]
    },
    {
      "cell_type": "markdown",
      "source": [
        "# Conclusions  \n",
        "\n",
        "After exploring your dataset, provide a short summary of what you noticed from this dataset.  What would you explore further with more time?"
      ],
      "metadata": {
        "id": "tujjevRpXEen"
      }
    },
    {
      "cell_type": "code",
      "source": [],
      "metadata": {
        "id": "SshtuQj9XR5_"
      },
      "execution_count": null,
      "outputs": []
    }
  ]
}